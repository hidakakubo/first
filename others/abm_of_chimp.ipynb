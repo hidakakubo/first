{
 "cells": [
  {
   "cell_type": "code",
   "execution_count": null,
   "metadata": {},
   "outputs": [],
   "source": [
    "# 各ライブラリのインストール\n",
    "import numpy as np\n",
    "import pandas as pd\n",
    "import matplotlib.pyplot as plt\n",
    "import random\n",
    "import itertools\n",
    "import os\n",
    "from tqdm import tqdm\n",
    "from mpl_toolkits.mplot3d import Axes3D\n",
    "from scipy.interpolate import griddata\n",
    "import matplotlib.cm as cm # グラデーション用"
   ]
  },
  {
   "cell_type": "code",
   "execution_count": null,
   "metadata": {},
   "outputs": [],
   "source": [
    "# Agentクラスの定義\n",
    "class Agent():\n",
    "    def __init__(self, sex_ratio, life_length, deth_rate, mature_age, cool_time):\n",
    "        self.sex = np.random.choice([\"m\", \"f\"], p=[sex_ratio, (1 - sex_ratio)])\n",
    "        self.sex_ratio = sex_ratio\n",
    "        self.life_length = life_length\n",
    "        self.age = 0\n",
    "        self.deth_rate = deth_rate\n",
    "        self.mature_age = mature_age\n",
    "        self.cool_time = cool_time\n",
    "    \n",
    "    # 死亡処理(0が死、1が生)\n",
    "    # 寿命で確実に死ぬ、死亡率によっても死ぬ\n",
    "    def __death(self):\n",
    "        if self.age == self.life_length:\n",
    "            return 0\n",
    "        else:\n",
    "            return np.random.choice([0, 1], p = [self.deth_rate, (1 - self.deth_rate)])\n",
    "\n",
    "    # 次世代のパラメータを遺伝によって決める\n",
    "    def __nextGen(self, female, male):\n",
    "        # 性比の決定\n",
    "        ave_s = 0\n",
    "        next_s = -1\n",
    "\n",
    "        ave_s = (female.sex_ratio + male.sex_ratio) / 2\n",
    "        while next_s < 0 or next_s >= 1:\n",
    "            next_s = np.random.normal(ave_s, 0.1)\n",
    "\n",
    "        # 性成熟年齢の決定\n",
    "        ave_m = 0\n",
    "        next_m = -1\n",
    "\n",
    "        ave_m = (female.mature_age + male.mature_age) / 2\n",
    "        while next_m < 0:\n",
    "            next_m = np.random.normal(ave_m, 0.1)\n",
    "        \n",
    "        # 妊娠のクールタイムの決定\n",
    "        ave_c = 0\n",
    "        next_c = -1\n",
    "\n",
    "        ave_c = (female.cool_time + male.cool_time) / 2\n",
    "        while next_c < 0 or next_c >= 0.5:\n",
    "            next_c = np.random.normal(ave_c, 0.1)"
   ]
  }
 ],
 "metadata": {
  "kernelspec": {
   "display_name": "base",
   "language": "python",
   "name": "python3"
  },
  "language_info": {
   "name": "python",
   "version": "3.9.13 (main, Aug 25 2022, 18:29:29) \n[Clang 12.0.0 ]"
  },
  "orig_nbformat": 4,
  "vscode": {
   "interpreter": {
    "hash": "b64d2063b15c063c437d3c2dbfd15848d69d1ac1db48a6c2cfeebb989f5eaa69"
   }
  }
 },
 "nbformat": 4,
 "nbformat_minor": 2
}
