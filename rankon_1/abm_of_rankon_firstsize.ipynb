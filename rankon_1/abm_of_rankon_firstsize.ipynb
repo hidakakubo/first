{
 "cells": [
  {
   "attachments": {},
   "cell_type": "markdown",
   "metadata": {},
   "source": [
    "パラメータ  \n",
    "firstsize:初期個体数(population)  \n",
    "life_length:寿命(year)  \n",
    "cool_time:性成熟する年齢(year)  \n",
    "x:初期集団のオスの性比(no unit)  \n",
    "accident_rate:年間の事故での死亡割合(/year)  \n",
    "born_rate:流産しない割合(?)  \n",
    "\n",
    "その他  \n",
    "iteration:世代数(year)  \n",
    "Nmax:個体数上限(population)"
   ]
  },
  {
   "attachments": {},
   "cell_type": "markdown",
   "metadata": {},
   "source": [
    "初期個体数を変化させて最終個体数の変化を見る"
   ]
  },
  {
   "cell_type": "code",
   "execution_count": 23,
   "metadata": {},
   "outputs": [],
   "source": [
    "# ライブラリのインポート\n",
    "import pandas as pd\n",
    "import numpy as np\n",
    "import matplotlib.pyplot as plt\n",
    "import random\n",
    "from tqdm import tqdm\n",
    "import statistics\n",
    "import os\n",
    "import itertools\n",
    "import math\n",
    "np.random.seed(2)"
   ]
  },
  {
   "cell_type": "code",
   "execution_count": 24,
   "metadata": {},
   "outputs": [],
   "source": [
    "# 個体クラスの定義\n",
    "class Agent():\n",
    "    def __init__(self, life_length, accident_rate):\n",
    "        self.sex = np.random.choice(['m', 'f'])\n",
    "        self.life_length = life_length\n",
    "        self.age = 0\n",
    "        self.death_rate = (1/life_length) + accident_rate # 年間の死亡割合\n",
    "\n",
    "    # 歳を取る\n",
    "    def aging(self):\n",
    "        self.age += 1\n",
    "\n",
    "    # 死亡判定処理\n",
    "    def judge_death(self):\n",
    "        # 寿命で死亡\n",
    "        if self.age >= self.life_length:\n",
    "            return True\n",
    "        else:\n",
    "            return np.random.choice([True, False], p=[self.death_rate, (1-self.death_rate)])"
   ]
  },
  {
   "cell_type": "code",
   "execution_count": 25,
   "metadata": {},
   "outputs": [],
   "source": [
    "# シミュレーションクラスの定義\n",
    "\n",
    "# firstsize:初期個体数、Nmax:個体数上限、life_length:寿命、cool_time:性成熟する年齢\n",
    "# x:初期集団のオスの比率、accident_rate:年間の事故での死亡割合、born_rate:流産しない割合\n",
    "\n",
    "class Simulation():\n",
    "    def __init__(self, firstsize, Nmax, life_length, cool_time, x=0.5, accident_rate=0, born_rate=1):\n",
    "        self.population = self.__initialize(firstsize, life_length, accident_rate, x)\n",
    "        self.Nmax = Nmax\n",
    "        self.life_length = life_length\n",
    "        self.cool_time = cool_time\n",
    "        self.accident_rate = accident_rate\n",
    "        self.born_rate = born_rate\n",
    "\n",
    "        self.cwd = os.getcwd()\n",
    "        self.population_size = [firstsize]\n",
    "        self.sexratio = [x]\n",
    "\n",
    "\n",
    "    # 初期集団をつくる\n",
    "    def __initialize(self, firstsize, life_length, accident_rate, x):\n",
    "        population = []\n",
    "\n",
    "        # firstsizeとxに従って初期集団をつくる\n",
    "        # 初期集団の個体の年齢はランダムに決定\n",
    "        for i in range(int(firstsize * x)):\n",
    "            focal = Agent(life_length, accident_rate)\n",
    "            focal.sex = 'm'\n",
    "            focal.age = np.random.randint(life_length)\n",
    "            population.append(focal)\n",
    "\n",
    "        for i in range(int(firstsize * (1-x))):\n",
    "            focal = Agent(life_length, accident_rate)\n",
    "            focal.sex = 'f'\n",
    "            focal.age = np.random.randint(0, life_length)\n",
    "            population.append(focal)\n",
    "\n",
    "        np.random.shuffle(population)\n",
    "        \n",
    "        return population\n",
    "\n",
    "\n",
    "    # 集団内の交尾\n",
    "    def __copulation(self):\n",
    "\n",
    "        if len([focal for focal in self.population if (focal.sex == 'm') and (focal.age > self.cool_time)]) >= 1:\n",
    "\n",
    "            # 生殖可能なメス個体\n",
    "            female_population = [focal for focal in self.population if (focal.sex == 'f') and (focal.age > self.cool_time)]\n",
    "\n",
    "            # 流産しない個体を選ぶ\n",
    "            chosen_female = [focal for focal in female_population if np.random.rand() <= self.born_rate]\n",
    "        \n",
    "            # メスが子供を産む\n",
    "            for _ in chosen_female:\n",
    "                self.population.append(Agent(self.life_length, self.accident_rate))\n",
    "\n",
    "            np.random.shuffle(self.population)\n",
    "\n",
    "\n",
    "    # 一定の死亡率で死亡\n",
    "    # 寿命で死亡\n",
    "    def __aging_and_death(self):\n",
    "        for focal in self.population:\n",
    "            focal.aging()\n",
    "            if focal.judge_death():\n",
    "                index = self.population.index(focal)\n",
    "                del self.population[index]\n",
    "\n",
    "\n",
    "    # 個体数抑制\n",
    "    def __population_control(self):\n",
    "        while len(self.population) > int(self.Nmax):\n",
    "            index = np.random.randint(0, len(self.population))\n",
    "            del self.population[index]\n",
    "\n",
    "\n",
    "    # 個体数、性比を記録する\n",
    "    def __calculation(self):\n",
    "        p_size = len(self.population)\n",
    "        m_size = len([focal for focal in self.population if focal.sex == 'm'])\n",
    "\n",
    "        if p_size != 0:\n",
    "            s_ratio = (m_size / p_size)\n",
    "        else:\n",
    "            s_ratio = 0\n",
    "\n",
    "        self.population_size.append(p_size)\n",
    "        self.sexratio.append(s_ratio)\n",
    "\n",
    "    \n",
    "    # 世代のシミュレーションを実行\n",
    "    def run_one_episode(self, iteration, episode):\n",
    "        for _ in range(iteration):\n",
    "            self.__copulation()\n",
    "            self.__aging_and_death()\n",
    "            self.__population_control()\n",
    "            self.__calculation()\n",
    "\n",
    "        pd.DataFrame({\n",
    "            'population size': self.population_size,\n",
    "            'sex ratio': self.sexratio\n",
    "        }).to_csv(os.path.join(self.cwd, 'result', f'episode_{episode}.csv'))"
   ]
  },
  {
   "cell_type": "code",
   "execution_count": 26,
   "metadata": {},
   "outputs": [
    {
     "name": "stdout",
     "output_type": "stream",
     "text": [
      "episode:0, F:5.0\n",
      "episode:1, F:10.0\n",
      "episode:2, F:15.0\n",
      "episode:3, F:20.0\n",
      "episode:4, F:25.0\n",
      "episode:5, F:30.0\n",
      "episode:6, F:35.0\n",
      "episode:7, F:40.0\n",
      "episode:8, F:45.0\n",
      "episode:9, F:50.0\n",
      "episode:10, F:55.0\n",
      "episode:11, F:60.0\n",
      "episode:12, F:65.0\n",
      "episode:13, F:70.0\n",
      "episode:14, F:75.0\n",
      "episode:15, F:80.0\n",
      "episode:16, F:85.0\n",
      "episode:17, F:90.0\n",
      "episode:18, F:95.0\n",
      "episode:19, F:100.0\n"
     ]
    }
   ],
   "source": [
    "# main処理\n",
    "# 初期個体数を変化させて最終個体数の変化を観察\n",
    "def main():\n",
    "    cwd = os.getcwd()\n",
    "    os.makedirs(os.path.join(cwd, 'result'), exist_ok=True)\n",
    "\n",
    "    # パラメータの設定\n",
    "    iteration = 50\n",
    "    firstsize_array = np.linspace(5, 100, 20)\n",
    "    Nmax = 10000\n",
    "    life_length = 30\n",
    "    cool_time = 5\n",
    "    sex_ratio = 0.5\n",
    "    accident_rate = 0\n",
    "    born_rate = 0.3\n",
    "\n",
    "    with open('result/parameters.csv', mode='a') as f:\n",
    "        f.write('episode,first size\\n')\n",
    "        for i, F in enumerate(firstsize_array):\n",
    "            print(f'episode:{i}, F:{F}')\n",
    "            simulation = Simulation(F, Nmax, life_length, cool_time, sex_ratio, accident_rate, born_rate)\n",
    "            simulation.run_one_episode(iteration, episode=i)\n",
    "            f.write(f'{i},{F}\\n')\n",
    "\n",
    "if __name__ == '__main__':\n",
    "    main()"
   ]
  },
  {
   "cell_type": "code",
   "execution_count": 27,
   "metadata": {},
   "outputs": [
    {
     "name": "stderr",
     "output_type": "stream",
     "text": [
      "/var/folders/_w/f4z7dgpj7ds3kb9z3rbqw3lc0000gn/T/ipykernel_1097/3626037048.py:34: UserWarning: Matplotlib is currently using module://matplotlib_inline.backend_inline, which is a non-GUI backend, so cannot show the figure.\n",
      "  fig.show()\n"
     ]
    },
    {
     "data": {
      "image/png": "[encoded data removed]",
      "text/plain": [
       "<Figure size 640x480 with 1 Axes>"
      ]
     },
     "metadata": {},
     "output_type": "display_data"
    },
    {
     "data": {
      "image/png": "[encoded data removed]",
      "text/plain": [
       "<Figure size 640x480 with 1 Axes>"
      ]
     },
     "metadata": {},
     "output_type": "display_data"
    }
   ],
   "source": [
    "# 可視化\n",
    "def main():\n",
    "    # データの読み込み\n",
    "    params = pd.read_csv('result/parameters.csv', index_col=0)\n",
    "    f_size = params['first size']\n",
    "    population_size = []\n",
    "    population_size_log = []\n",
    "    \n",
    "    # 各シミュレーションの最終個体数を取ってくる\n",
    "    for i in range(20):                               # 手入力必須！！！！\n",
    "        df = pd.read_csv(f'result/episode_{i}.csv')\n",
    "        x = df['population size'][50]                 # 世代数手入力必要\n",
    "        population_size.append(x)\n",
    "        population_size_log.append(math.log10(x+1))\n",
    "\n",
    "    \n",
    "    # 図1\n",
    "    fig = plt.figure()\n",
    "    ax = fig.add_subplot(111)\n",
    "    ax.scatter(f_size, population_size, s=50, alpha=0.5, linewidths=1, c='#aaaaFF', edgecolors='b', marker='D')\n",
    "    ax.set_xlabel('first size')\n",
    "    ax.set_ylabel('population size')\n",
    "    fig.savefig('tmp1.png', dpi=600)\n",
    "\n",
    "\n",
    "    # 図2\n",
    "    fig = plt.figure()\n",
    "    ax = fig.add_subplot(111)\n",
    "    ax.scatter(f_size, population_size_log, s=50, alpha=0.5, linewidths=1, c='#FFaaaa', edgecolors='r', marker='D')\n",
    "    ax.set_xlabel('first size')\n",
    "    ax.set_ylabel('log10(population size + 1)')\n",
    "    fig.savefig('tmp2.png', dpi=600)\n",
    "\n",
    "    fig.show()\n",
    "\n",
    "\n",
    "if __name__ == '__main__':\n",
    "    main()"
   ]
  },
  {
   "cell_type": "code",
   "execution_count": null,
   "metadata": {},
   "outputs": [],
   "source": []
  }
 ],
 "metadata": {
  "kernelspec": {
   "display_name": "base",
   "language": "python",
   "name": "python3"
  },
  "language_info": {
   "codemirror_mode": {
    "name": "ipython",
    "version": 3
   },
   "file_extension": ".py",
   "mimetype": "text/x-python",
   "name": "python",
   "nbconvert_exporter": "python",
   "pygments_lexer": "ipython3",
   "version": "3.9.13 (main, Aug 25 2022, 18:29:29) \n[Clang 12.0.0 ]"
  },
  "orig_nbformat": 4,
  "vscode": {
   "interpreter": {
    "hash": "b64d2063b15c063c437d3c2dbfd15848d69d1ac1db48a6c2cfeebb989f5eaa69"
   }
  }
 },
 "nbformat": 4,
 "nbformat_minor": 2
}
