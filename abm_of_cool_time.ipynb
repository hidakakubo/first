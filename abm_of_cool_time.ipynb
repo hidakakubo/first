{
 "cells": [
  {
   "cell_type": "code",
   "execution_count": 3,
   "metadata": {},
   "outputs": [],
   "source": [
    "# 各ライブラリのインストール\n",
    "import numpy as np\n",
    "import matplotlib.pyplot as plt\n",
    "import random\n",
    "from tqdm import tqdm\n",
    "import statistics"
   ]
  },
  {
   "cell_type": "code",
   "execution_count": 4,
   "metadata": {},
   "outputs": [],
   "source": [
    "# 個体クラスの定義\n",
    "class Agent():\n",
    "    def __init__(self, x):\n",
    "        self.sex = np.random.choice([\"m\", \"f\"], p=[0.5, (1-0.5)])\n",
    "        self.life_length = 30\n",
    "        self.age = 0\n",
    "        self.cool_time = 0\n",
    "        self.ct_2 = x\n",
    "        self.resource = 1\n",
    "        self.death = False\n",
    "\n",
    "    # 歳を取る\n",
    "    def aging(self):\n",
    "        self.age += 1\n",
    "        \n",
    "        self.resource -= 1\n",
    "\n",
    "        if self.cool_time != 0:\n",
    "            self.cool_time -= 1\n",
    "\n",
    "    # 死亡処理\n",
    "    def judge_death(self):\n",
    "        if self.age == self.life_length:\n",
    "            self.death = True\n",
    "        elif self.resource == 0:\n",
    "            self.death = True"
   ]
  },
  {
   "cell_type": "code",
   "execution_count": 5,
   "metadata": {},
   "outputs": [],
   "source": [
    "# シミュレーションクラスの定義\n",
    "class Simulation():\n",
    "    def __init__(self, x, firstsize, max_resource):\n",
    "        self.population = self.__initialize(x, firstsize)\n",
    "        self.max_resource = max_resource\n",
    "\n",
    "    # 初期集団をつくる\n",
    "    def __initialize(self, x, firstsize):\n",
    "        population = []\n",
    "\n",
    "        for i in range(firstsize):\n",
    "            population.append(Agent(x))\n",
    "        \n",
    "        return population\n",
    "\n",
    "\n",
    "    # 次世代のcooltimeの決定\n",
    "    def __make_nextGen(self, female, male):\n",
    "        ave = 0\n",
    "        nextgen = -1\n",
    "    \n",
    "        # 両親の性比強度の平均\n",
    "        ave = (female.cool_time + male.cool_time) / 2\n",
    "        # 平均ave、分散0.5の正規分布から次世代の値を決定\n",
    "        while nextgen < 1:\n",
    "            nextgen = int(np.random.normal(ave, 0.5))\n",
    "    \n",
    "        return nextgen\n",
    "\n",
    "\n",
    "    # 集団内の交尾\n",
    "    def __copulation(self):\n",
    "        male_population = []\n",
    "        female_population = []\n",
    "        newgen = []\n",
    "\n",
    "        # オスメスの振り分け\n",
    "        # 生殖可能な個体を選ぶ\n",
    "        for focal in self.population:\n",
    "            if (focal.sex == 'm') and (focal.age > 5):\n",
    "                male_population.append(focal)\n",
    "            elif (focal.sex == 'f') and (focal.age > 5) and (focal.cool_time == 0):\n",
    "                female_population.append(focal)\n",
    "\n",
    "        # 交尾の回数を決定\n",
    "        if len(female_population) >= len(male_population):\n",
    "            cop_i = len(male_population)\n",
    "        else:\n",
    "            cop_i = len(female_population)\n",
    "        \n",
    "        # 交尾させる雌雄の抽出と交配\n",
    "        # クールタイムの発生\n",
    "        for i in range(cop_i):\n",
    "            cop_female = female_population.pop(random.randrange(len(female_population)))\n",
    "            cop_male = male_population.pop(random.randrange(len(male_population)))\n",
    "            newgen.append(self.__make_nextGen(cop_female, cop_male))\n",
    "            \n",
    "            cop_female.cool_time = cop_female.ct_2\n",
    "        \n",
    "        return newgen\n",
    "\n",
    "    \n",
    "    # 資源の分配\n",
    "    def __distribution(self):\n",
    "        random.shuffle(self.population)\n",
    "        x = self.max_resource\n",
    "        if x < len(self.population):\n",
    "            for i in range(x):\n",
    "                self.population[i].resource += 1\n",
    "        else:\n",
    "            for focal in self.population:\n",
    "                focal.resource += 1\n",
    "\n",
    "\n",
    "    # 1世代のシミュレーションを実行\n",
    "    def run_one_episode(self):\n",
    "            \n",
    "        newegg = self.__copulation()\n",
    "        for i in newegg:\n",
    "            self.population.append(Agent(i))\n",
    "\n",
    "        self.__distribution()\n",
    "\n",
    "        for focal in self.population:\n",
    "            focal.aging()\n",
    "            focal.judge_death()\n",
    "            if focal.death:\n",
    "                index = self.population.index(focal)\n",
    "                del self.population[index]"
   ]
  },
  {
   "cell_type": "code",
   "execution_count": 7,
   "metadata": {},
   "outputs": [],
   "source": [
    "# main処理\n",
    "def main(x, firstsize, max_resource, iteration):\n",
    "    t = list(range(1, (iteration + 1)))\n",
    "    whole_size = []\n",
    "    cool_time = []\n",
    "    simulation = Simulation(x, firstsize, max_resource)\n",
    "    \n",
    "    for i in tqdm(range(iteration)):\n",
    "        simulation.run_one_episode()\n",
    "\n",
    "        ct_2 = []\n",
    "        f_size = 0\n",
    "        for focal in simulation.population:\n",
    "            if focal.sex == 'f':\n",
    "                ct_2.append(focal.ct_2)\n",
    "                f_size += 1\n",
    "        whole_size.append(len(simulation.population))\n",
    "        cool_time.append(np.sum(ct_2) / f_size)\n",
    "\n",
    "    plt.figure()\n",
    "    plt.plot(t, cool_time)\n",
    "    plt.title('cool time')\n",
    "    plt.xlabel('Generations')\n",
    "    plt.grid(True)\n",
    "\n",
    "    plt.figure()\n",
    "    plt.plot(t, whole_size)\n",
    "    plt.title('whole size')\n",
    "    plt.xlabel('Generations')\n",
    "    plt.grid(True)"
   ]
  },
  {
   "cell_type": "code",
   "execution_count": 8,
   "metadata": {},
   "outputs": [
    {
     "name": "stderr",
     "output_type": "stream",
     "text": [
      "100%|██████████| 3000/3000 [01:59<00:00, 25.14it/s]\n"
     ]
    },
    {
     "data": {
      "image/png": "[encoded data removed]",
      "text/plain": [
       "<Figure size 432x288 with 1 Axes>"
      ]
     },
     "metadata": {
      "needs_background": "light"
     },
     "output_type": "display_data"
    },
    {
     "data": {
      "image/png": "[encoded data removed]",
      "text/plain": [
       "<Figure size 432x288 with 1 Axes>"
      ]
     },
     "metadata": {
      "needs_background": "light"
     },
     "output_type": "display_data"
    }
   ],
   "source": [
    "# 初期cool time 6、初期集団サイズ20、総資源1000、ループ回数3000\n",
    "main(6, 20, 1000, 3000)"
   ]
  },
  {
   "cell_type": "code",
   "execution_count": 10,
   "metadata": {},
   "outputs": [
    {
     "name": "stderr",
     "output_type": "stream",
     "text": [
      "100%|██████████| 100/100 [00:00<00:00, 343.91it/s]\n"
     ]
    },
    {
     "data": {
      "image/png": "[encoded data removed]",
      "text/plain": [
       "<Figure size 432x288 with 1 Axes>"
      ]
     },
     "metadata": {
      "needs_background": "light"
     },
     "output_type": "display_data"
    },
    {
     "data": {
      "image/png": "[encoded data removed]",
      "text/plain": [
       "<Figure size 432x288 with 1 Axes>"
      ]
     },
     "metadata": {
      "needs_background": "light"
     },
     "output_type": "display_data"
    }
   ],
   "source": [
    "# 初期cool time 6、初期集団サイズ20、総資源50、ループ回数100\n",
    "main(6, 20, 50, 100)"
   ]
  },
  {
   "cell_type": "code",
   "execution_count": null,
   "metadata": {},
   "outputs": [],
   "source": []
  }
 ],
 "metadata": {
  "kernelspec": {
   "display_name": "base",
   "language": "python",
   "name": "python3"
  },
  "language_info": {
   "codemirror_mode": {
    "name": "ipython",
    "version": 3
   },
   "file_extension": ".py",
   "mimetype": "text/x-python",
   "name": "python",
   "nbconvert_exporter": "python",
   "pygments_lexer": "ipython3",
   "version": "3.8.8 (default, Apr 13 2021, 15:08:03) [MSC v.1916 64 bit (AMD64)]"
  },
  "orig_nbformat": 4,
  "vscode": {
   "interpreter": {
    "hash": "c7158ecfad8b2aa21e0173780ba206cfc170da3f4c9179a7cd1c87d84cdf5996"
   }
  }
 },
 "nbformat": 4,
 "nbformat_minor": 2
}
